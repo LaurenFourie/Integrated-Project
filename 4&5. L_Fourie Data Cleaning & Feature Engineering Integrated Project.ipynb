{
 "cells": [
  {
   "cell_type": "markdown",
   "id": "c612372c",
   "metadata": {},
   "source": [
    "# Integrated Project: Data Cleaning & Feature Engineering"
   ]
  },
  {
   "cell_type": "markdown",
   "id": "245e4a53",
   "metadata": {},
   "source": [
    "## 1. Introduction"
   ]
  },
  {
   "cell_type": "markdown",
   "id": "3da27bcb",
   "metadata": {},
   "source": [
    "### Insurance Industry in Africa \n",
    "- Africa is home to 17% of the world's population.\n",
    "- In 2017 it was estimated that the total value of insurance premiums was 45 billion U.S.\n",
    "- The insurance industry in Africa only represents >1% of insured catastrophe losses worldwide.\n",
    "\n",
    "### Observations\n",
    "Let’s look into the market to understand what the problems are, so that we can define a problem statement and come up with a viable tool that can bring value to the industry.\n",
    "\n",
    "1.\tAffordability\n",
    "- 25 dollar a day -> That a simple cheese burger in McDonalds\n",
    "- 10 times Lower than other countries\n",
    "- South Africa has the highest average salary $2088 ($70 / day)\n",
    "\n",
    "2.\tInsurance Knowledge\n",
    "- Why should I spend my money now for a risk that might not happen?\n",
    "- Who can I target and where?\n",
    "\n",
    "3.\tTarget Marketing\n",
    "- Africa has an unemployment rate of 30%.\n",
    "- Less than 50% of the available market are below the\n",
    "- Which client pool can be optimised\n",
    "\n",
    "### Problem Statement\n",
    "In the African insurance industry, the key challenges revolve around low affordability, limited insurance knowledge, and difficulties in identifying an optimal target market. With an average daily income significantly lower than other regions and a high unemployment rate, potential clients may find it hard to justify spending on insurance for potential risks. Additionally, a lack of awareness and understanding of insurance further hinders market penetration. The task is to develop a solution that addresses these issues, making insurance more affordable, enhancing knowledge about its importance, and identifying and optimizing the target market to maximize the industry's reach and impact in Africa.\n"
   ]
  },
  {
   "cell_type": "markdown",
   "id": "081855ee",
   "metadata": {},
   "source": [
    "## 2. Imports"
   ]
  },
  {
   "cell_type": "code",
   "execution_count": 1,
   "id": "6130b7e0",
   "metadata": {},
   "outputs": [
    {
     "name": "stdout",
     "output_type": "stream",
     "text": [
      "Note: you may need to restart the kernel to use updated packages.\n",
      "Requirement already satisfied: matplotlib in c:\\users\\brink\\anaconda3\\lib\\site-packages (3.7.0)\n",
      "Requirement already satisfied: numpy>=1.20 in c:\\users\\brink\\anaconda3\\lib\\site-packages (from matplotlib) (1.23.5)\n",
      "Requirement already satisfied: packaging>=20.0 in c:\\users\\brink\\anaconda3\\lib\\site-packages (from matplotlib) (22.0)\n",
      "Requirement already satisfied: pyparsing>=2.3.1 in c:\\users\\brink\\anaconda3\\lib\\site-packages (from matplotlib) (3.0.9)\n",
      "Requirement already satisfied: fonttools>=4.22.0 in c:\\users\\brink\\anaconda3\\lib\\site-packages (from matplotlib) (4.25.0)\n",
      "Requirement already satisfied: cycler>=0.10 in c:\\users\\brink\\anaconda3\\lib\\site-packages (from matplotlib) (0.11.0)\n",
      "Requirement already satisfied: contourpy>=1.0.1 in c:\\users\\brink\\anaconda3\\lib\\site-packages (from matplotlib) (1.0.5)\n",
      "Requirement already satisfied: python-dateutil>=2.7 in c:\\users\\brink\\anaconda3\\lib\\site-packages (from matplotlib) (2.8.2)\n",
      "Requirement already satisfied: kiwisolver>=1.0.1 in c:\\users\\brink\\anaconda3\\lib\\site-packages (from matplotlib) (1.4.4)\n",
      "Requirement already satisfied: pillow>=6.2.0 in c:\\users\\brink\\anaconda3\\lib\\site-packages (from matplotlib) (9.4.0)\n",
      "Requirement already satisfied: six>=1.5 in c:\\users\\brink\\anaconda3\\lib\\site-packages (from python-dateutil>=2.7->matplotlib) (1.16.0)\n"
     ]
    }
   ],
   "source": [
    "pip install matplotlib"
   ]
  },
  {
   "cell_type": "code",
   "execution_count": 2,
   "id": "3f545f82",
   "metadata": {},
   "outputs": [],
   "source": [
    "import pandas as pd\n",
    "import numpy as np\n",
    "\n",
    "from scipy import stats\n",
    "import seaborn as sns\n",
    "from scipy.stats.mstats import winsorize\n",
    "import matplotlib.pyplot as plt"
   ]
  },
  {
   "cell_type": "markdown",
   "id": "abc085ba",
   "metadata": {},
   "source": [
    "## 3. Load Data"
   ]
  },
  {
   "cell_type": "code",
   "execution_count": 3,
   "id": "0ea9b097",
   "metadata": {},
   "outputs": [],
   "source": [
    "file_path = \"insurance_claims_raw.xlsx\"\n",
    "df = pd.read_excel(file_path)"
   ]
  },
  {
   "cell_type": "markdown",
   "id": "c0a9e51c",
   "metadata": {},
   "source": [
    "## 4. Display Dataset"
   ]
  },
  {
   "cell_type": "code",
   "execution_count": 4,
   "id": "ce3e0c49",
   "metadata": {
    "scrolled": true
   },
   "outputs": [
    {
     "data": {
      "text/html": [
       "<div>\n",
       "<style scoped>\n",
       "    .dataframe tbody tr th:only-of-type {\n",
       "        vertical-align: middle;\n",
       "    }\n",
       "\n",
       "    .dataframe tbody tr th {\n",
       "        vertical-align: top;\n",
       "    }\n",
       "\n",
       "    .dataframe thead th {\n",
       "        text-align: right;\n",
       "    }\n",
       "</style>\n",
       "<table border=\"1\" class=\"dataframe\">\n",
       "  <thead>\n",
       "    <tr style=\"text-align: right;\">\n",
       "      <th></th>\n",
       "      <th>months_as_customer</th>\n",
       "      <th>age</th>\n",
       "      <th>policy_number</th>\n",
       "      <th>policy_bind_date</th>\n",
       "      <th>policy_state</th>\n",
       "      <th>policy_csl</th>\n",
       "      <th>policy_deductable</th>\n",
       "      <th>policy_annual_premium</th>\n",
       "      <th>umbrella_limit</th>\n",
       "      <th>insured_zip</th>\n",
       "      <th>...</th>\n",
       "      <th>police_report_available</th>\n",
       "      <th>total_claim_amount</th>\n",
       "      <th>injury_claim</th>\n",
       "      <th>property_claim</th>\n",
       "      <th>vehicle_claim</th>\n",
       "      <th>auto_make</th>\n",
       "      <th>auto_model</th>\n",
       "      <th>auto_year</th>\n",
       "      <th>fraud_reported</th>\n",
       "      <th>_c39</th>\n",
       "    </tr>\n",
       "  </thead>\n",
       "  <tbody>\n",
       "    <tr>\n",
       "      <th>0</th>\n",
       "      <td>328</td>\n",
       "      <td>48.0</td>\n",
       "      <td>521585</td>\n",
       "      <td>2014-10-17</td>\n",
       "      <td>OH</td>\n",
       "      <td>250/500</td>\n",
       "      <td>1000.0</td>\n",
       "      <td>1406.91</td>\n",
       "      <td>0</td>\n",
       "      <td>466132</td>\n",
       "      <td>...</td>\n",
       "      <td>YES</td>\n",
       "      <td>71610.0</td>\n",
       "      <td>6510.0</td>\n",
       "      <td>13020.0</td>\n",
       "      <td>52080</td>\n",
       "      <td>Saab</td>\n",
       "      <td>92x</td>\n",
       "      <td>2004</td>\n",
       "      <td>Y</td>\n",
       "      <td>NaN</td>\n",
       "    </tr>\n",
       "    <tr>\n",
       "      <th>1</th>\n",
       "      <td>228</td>\n",
       "      <td>42.0</td>\n",
       "      <td>342868</td>\n",
       "      <td>2006-06-27</td>\n",
       "      <td>IN</td>\n",
       "      <td>250/500</td>\n",
       "      <td>2000.0</td>\n",
       "      <td>1197.22</td>\n",
       "      <td>5000000</td>\n",
       "      <td>468176</td>\n",
       "      <td>...</td>\n",
       "      <td>?</td>\n",
       "      <td>5070.0</td>\n",
       "      <td>780.0</td>\n",
       "      <td>780.0</td>\n",
       "      <td>3510</td>\n",
       "      <td>Mercedes</td>\n",
       "      <td>E400</td>\n",
       "      <td>2007</td>\n",
       "      <td>Y</td>\n",
       "      <td>NaN</td>\n",
       "    </tr>\n",
       "    <tr>\n",
       "      <th>2</th>\n",
       "      <td>134</td>\n",
       "      <td>29.0</td>\n",
       "      <td>687698</td>\n",
       "      <td>2000-09-06</td>\n",
       "      <td>OH</td>\n",
       "      <td>100/300</td>\n",
       "      <td>2000.0</td>\n",
       "      <td>1413.14</td>\n",
       "      <td>5000000</td>\n",
       "      <td>430632</td>\n",
       "      <td>...</td>\n",
       "      <td>NO</td>\n",
       "      <td>34650.0</td>\n",
       "      <td>7700.0</td>\n",
       "      <td>3850.0</td>\n",
       "      <td>23100</td>\n",
       "      <td>Dodge</td>\n",
       "      <td>RAM</td>\n",
       "      <td>2007</td>\n",
       "      <td>N</td>\n",
       "      <td>NaN</td>\n",
       "    </tr>\n",
       "    <tr>\n",
       "      <th>3</th>\n",
       "      <td>256</td>\n",
       "      <td>41.0</td>\n",
       "      <td>227811</td>\n",
       "      <td>1990-05-25</td>\n",
       "      <td>IL</td>\n",
       "      <td>250/500</td>\n",
       "      <td>2000.0</td>\n",
       "      <td>1415.74</td>\n",
       "      <td>6000000</td>\n",
       "      <td>608117</td>\n",
       "      <td>...</td>\n",
       "      <td>NO</td>\n",
       "      <td>63400.0</td>\n",
       "      <td>6340.0</td>\n",
       "      <td>6340.0</td>\n",
       "      <td>50720</td>\n",
       "      <td>Chevrolet</td>\n",
       "      <td>Tahoe</td>\n",
       "      <td>2014</td>\n",
       "      <td>Y</td>\n",
       "      <td>NaN</td>\n",
       "    </tr>\n",
       "    <tr>\n",
       "      <th>4</th>\n",
       "      <td>228</td>\n",
       "      <td>44.0</td>\n",
       "      <td>367455</td>\n",
       "      <td>2014-06-06</td>\n",
       "      <td>IL</td>\n",
       "      <td>500/1000</td>\n",
       "      <td>1000.0</td>\n",
       "      <td>1583.91</td>\n",
       "      <td>6000000</td>\n",
       "      <td>610706</td>\n",
       "      <td>...</td>\n",
       "      <td>NO</td>\n",
       "      <td>6500.0</td>\n",
       "      <td>1300.0</td>\n",
       "      <td>650.0</td>\n",
       "      <td>4550</td>\n",
       "      <td>Accura</td>\n",
       "      <td>RSX</td>\n",
       "      <td>2009</td>\n",
       "      <td>N</td>\n",
       "      <td>NaN</td>\n",
       "    </tr>\n",
       "  </tbody>\n",
       "</table>\n",
       "<p>5 rows × 40 columns</p>\n",
       "</div>"
      ],
      "text/plain": [
       "   months_as_customer   age  policy_number policy_bind_date policy_state  \\\n",
       "0                 328  48.0         521585       2014-10-17           OH   \n",
       "1                 228  42.0         342868       2006-06-27           IN   \n",
       "2                 134  29.0         687698       2000-09-06           OH   \n",
       "3                 256  41.0         227811       1990-05-25           IL   \n",
       "4                 228  44.0         367455       2014-06-06           IL   \n",
       "\n",
       "  policy_csl  policy_deductable  policy_annual_premium  umbrella_limit  \\\n",
       "0    250/500             1000.0                1406.91               0   \n",
       "1    250/500             2000.0                1197.22         5000000   \n",
       "2    100/300             2000.0                1413.14         5000000   \n",
       "3    250/500             2000.0                1415.74         6000000   \n",
       "4   500/1000             1000.0                1583.91         6000000   \n",
       "\n",
       "   insured_zip  ... police_report_available total_claim_amount injury_claim  \\\n",
       "0       466132  ...                     YES            71610.0       6510.0   \n",
       "1       468176  ...                       ?             5070.0        780.0   \n",
       "2       430632  ...                      NO            34650.0       7700.0   \n",
       "3       608117  ...                      NO            63400.0       6340.0   \n",
       "4       610706  ...                      NO             6500.0       1300.0   \n",
       "\n",
       "  property_claim vehicle_claim  auto_make  auto_model auto_year  \\\n",
       "0        13020.0         52080       Saab         92x      2004   \n",
       "1          780.0          3510   Mercedes        E400      2007   \n",
       "2         3850.0         23100      Dodge         RAM      2007   \n",
       "3         6340.0         50720  Chevrolet       Tahoe      2014   \n",
       "4          650.0          4550     Accura         RSX      2009   \n",
       "\n",
       "  fraud_reported _c39  \n",
       "0              Y  NaN  \n",
       "1              Y  NaN  \n",
       "2              N  NaN  \n",
       "3              Y  NaN  \n",
       "4              N  NaN  \n",
       "\n",
       "[5 rows x 40 columns]"
      ]
     },
     "execution_count": 4,
     "metadata": {},
     "output_type": "execute_result"
    }
   ],
   "source": [
    "df.head()"
   ]
  },
  {
   "cell_type": "markdown",
   "id": "9ff42f1b",
   "metadata": {},
   "source": [
    "## 5. Data Information"
   ]
  },
  {
   "cell_type": "code",
   "execution_count": 5,
   "id": "d803fbcf",
   "metadata": {
    "scrolled": true
   },
   "outputs": [
    {
     "name": "stdout",
     "output_type": "stream",
     "text": [
      "<class 'pandas.core.frame.DataFrame'>\n",
      "RangeIndex: 1000 entries, 0 to 999\n",
      "Data columns (total 40 columns):\n",
      " #   Column                       Non-Null Count  Dtype         \n",
      "---  ------                       --------------  -----         \n",
      " 0   months_as_customer           1000 non-null   int64         \n",
      " 1   age                          998 non-null    float64       \n",
      " 2   policy_number                1000 non-null   int64         \n",
      " 3   policy_bind_date             1000 non-null   datetime64[ns]\n",
      " 4   policy_state                 1000 non-null   object        \n",
      " 5   policy_csl                   1000 non-null   object        \n",
      " 6   policy_deductable            998 non-null    float64       \n",
      " 7   policy_annual_premium        997 non-null    float64       \n",
      " 8   umbrella_limit               1000 non-null   int64         \n",
      " 9   insured_zip                  1000 non-null   int64         \n",
      " 10  insured_sex                  1000 non-null   object        \n",
      " 11  insured_education_level      1000 non-null   object        \n",
      " 12  insured_occupation           1000 non-null   object        \n",
      " 13  insured_hobbies              998 non-null    object        \n",
      " 14  insured_relationship         1000 non-null   object        \n",
      " 15  capital-gains                998 non-null    float64       \n",
      " 16  capital-loss                 1000 non-null   int64         \n",
      " 17  incident_date                1000 non-null   datetime64[ns]\n",
      " 18  incident_type                1000 non-null   object        \n",
      " 19  collision_type               1000 non-null   object        \n",
      " 20  incident_severity            1000 non-null   object        \n",
      " 21  authorities_contacted        998 non-null    object        \n",
      " 22  incident_state               998 non-null    object        \n",
      " 23  incident_city                1000 non-null   object        \n",
      " 24  incident_location            1000 non-null   object        \n",
      " 25  incident_hour_of_the_day     1000 non-null   int64         \n",
      " 26  number_of_vehicles_involved  1000 non-null   int64         \n",
      " 27  property_damage              1000 non-null   object        \n",
      " 28  bodily_injuries              1000 non-null   int64         \n",
      " 29  witnesses                    1000 non-null   int64         \n",
      " 30  police_report_available      1000 non-null   object        \n",
      " 31  total_claim_amount           996 non-null    float64       \n",
      " 32  injury_claim                 999 non-null    float64       \n",
      " 33  property_claim               999 non-null    float64       \n",
      " 34  vehicle_claim                1000 non-null   int64         \n",
      " 35  auto_make                    1000 non-null   object        \n",
      " 36  auto_model                   1000 non-null   object        \n",
      " 37  auto_year                    1000 non-null   int64         \n",
      " 38  fraud_reported               1000 non-null   object        \n",
      " 39  _c39                         0 non-null      float64       \n",
      "dtypes: datetime64[ns](2), float64(8), int64(11), object(19)\n",
      "memory usage: 312.6+ KB\n"
     ]
    }
   ],
   "source": [
    "df.info()"
   ]
  },
  {
   "cell_type": "markdown",
   "id": "3a114977",
   "metadata": {},
   "source": [
    "- The dataset contains 1000 entries.\n",
    "- There are 40 columns with various data types, including integers, floats, objects (likely strings), and datetime objects.\n",
    "- Some columns have missing values, as indicated by the difference in non-null counts.\n",
    "- The _c39 column has all null values and can be considered for removal."
   ]
  },
  {
   "cell_type": "code",
   "execution_count": 6,
   "id": "95ca7d8e",
   "metadata": {},
   "outputs": [
    {
     "data": {
      "text/html": [
       "<div>\n",
       "<style scoped>\n",
       "    .dataframe tbody tr th:only-of-type {\n",
       "        vertical-align: middle;\n",
       "    }\n",
       "\n",
       "    .dataframe tbody tr th {\n",
       "        vertical-align: top;\n",
       "    }\n",
       "\n",
       "    .dataframe thead th {\n",
       "        text-align: right;\n",
       "    }\n",
       "</style>\n",
       "<table border=\"1\" class=\"dataframe\">\n",
       "  <thead>\n",
       "    <tr style=\"text-align: right;\">\n",
       "      <th></th>\n",
       "      <th>months_as_customer</th>\n",
       "      <th>age</th>\n",
       "      <th>policy_number</th>\n",
       "      <th>policy_deductable</th>\n",
       "      <th>policy_annual_premium</th>\n",
       "      <th>umbrella_limit</th>\n",
       "      <th>insured_zip</th>\n",
       "      <th>capital-gains</th>\n",
       "      <th>capital-loss</th>\n",
       "      <th>incident_hour_of_the_day</th>\n",
       "      <th>number_of_vehicles_involved</th>\n",
       "      <th>bodily_injuries</th>\n",
       "      <th>witnesses</th>\n",
       "      <th>total_claim_amount</th>\n",
       "      <th>injury_claim</th>\n",
       "      <th>property_claim</th>\n",
       "      <th>vehicle_claim</th>\n",
       "      <th>auto_year</th>\n",
       "      <th>_c39</th>\n",
       "    </tr>\n",
       "  </thead>\n",
       "  <tbody>\n",
       "    <tr>\n",
       "      <th>count</th>\n",
       "      <td>1000.000000</td>\n",
       "      <td>998.000000</td>\n",
       "      <td>1000.000000</td>\n",
       "      <td>998.000000</td>\n",
       "      <td>997.000000</td>\n",
       "      <td>1.000000e+03</td>\n",
       "      <td>1000.000000</td>\n",
       "      <td>998.000000</td>\n",
       "      <td>1000.000000</td>\n",
       "      <td>1000.000000</td>\n",
       "      <td>1000.00000</td>\n",
       "      <td>1000.000000</td>\n",
       "      <td>1000.000000</td>\n",
       "      <td>996.000000</td>\n",
       "      <td>999.000000</td>\n",
       "      <td>999.000000</td>\n",
       "      <td>1000.000000</td>\n",
       "      <td>1000.000000</td>\n",
       "      <td>0.0</td>\n",
       "    </tr>\n",
       "    <tr>\n",
       "      <th>mean</th>\n",
       "      <td>203.954000</td>\n",
       "      <td>38.962926</td>\n",
       "      <td>546238.648000</td>\n",
       "      <td>1134.268537</td>\n",
       "      <td>1257.001113</td>\n",
       "      <td>1.101000e+06</td>\n",
       "      <td>501214.488000</td>\n",
       "      <td>25176.452906</td>\n",
       "      <td>-26793.700000</td>\n",
       "      <td>11.644000</td>\n",
       "      <td>1.83900</td>\n",
       "      <td>0.992000</td>\n",
       "      <td>1.487000</td>\n",
       "      <td>52767.469880</td>\n",
       "      <td>7434.944945</td>\n",
       "      <td>7398.628629</td>\n",
       "      <td>37928.950000</td>\n",
       "      <td>2005.103000</td>\n",
       "      <td>NaN</td>\n",
       "    </tr>\n",
       "    <tr>\n",
       "      <th>std</th>\n",
       "      <td>115.113174</td>\n",
       "      <td>9.135425</td>\n",
       "      <td>257063.005276</td>\n",
       "      <td>611.251914</td>\n",
       "      <td>244.265051</td>\n",
       "      <td>2.297407e+06</td>\n",
       "      <td>71701.610941</td>\n",
       "      <td>27877.379027</td>\n",
       "      <td>28104.096686</td>\n",
       "      <td>6.951373</td>\n",
       "      <td>1.01888</td>\n",
       "      <td>0.820127</td>\n",
       "      <td>1.111335</td>\n",
       "      <td>26405.348039</td>\n",
       "      <td>4883.158265</td>\n",
       "      <td>4827.050887</td>\n",
       "      <td>18886.252893</td>\n",
       "      <td>6.015861</td>\n",
       "      <td>NaN</td>\n",
       "    </tr>\n",
       "    <tr>\n",
       "      <th>min</th>\n",
       "      <td>0.000000</td>\n",
       "      <td>19.000000</td>\n",
       "      <td>100804.000000</td>\n",
       "      <td>500.000000</td>\n",
       "      <td>433.330000</td>\n",
       "      <td>-1.000000e+06</td>\n",
       "      <td>430104.000000</td>\n",
       "      <td>0.000000</td>\n",
       "      <td>-111100.000000</td>\n",
       "      <td>0.000000</td>\n",
       "      <td>1.00000</td>\n",
       "      <td>0.000000</td>\n",
       "      <td>0.000000</td>\n",
       "      <td>100.000000</td>\n",
       "      <td>0.000000</td>\n",
       "      <td>0.000000</td>\n",
       "      <td>70.000000</td>\n",
       "      <td>1995.000000</td>\n",
       "      <td>NaN</td>\n",
       "    </tr>\n",
       "    <tr>\n",
       "      <th>25%</th>\n",
       "      <td>115.750000</td>\n",
       "      <td>32.000000</td>\n",
       "      <td>335980.250000</td>\n",
       "      <td>500.000000</td>\n",
       "      <td>1090.320000</td>\n",
       "      <td>0.000000e+00</td>\n",
       "      <td>448404.500000</td>\n",
       "      <td>0.000000</td>\n",
       "      <td>-51500.000000</td>\n",
       "      <td>6.000000</td>\n",
       "      <td>1.00000</td>\n",
       "      <td>0.000000</td>\n",
       "      <td>1.000000</td>\n",
       "      <td>41812.500000</td>\n",
       "      <td>4290.000000</td>\n",
       "      <td>4440.000000</td>\n",
       "      <td>30292.500000</td>\n",
       "      <td>2000.000000</td>\n",
       "      <td>NaN</td>\n",
       "    </tr>\n",
       "    <tr>\n",
       "      <th>50%</th>\n",
       "      <td>199.500000</td>\n",
       "      <td>38.000000</td>\n",
       "      <td>533135.000000</td>\n",
       "      <td>1000.000000</td>\n",
       "      <td>1257.830000</td>\n",
       "      <td>0.000000e+00</td>\n",
       "      <td>466445.500000</td>\n",
       "      <td>0.000000</td>\n",
       "      <td>-23250.000000</td>\n",
       "      <td>12.000000</td>\n",
       "      <td>1.00000</td>\n",
       "      <td>1.000000</td>\n",
       "      <td>1.000000</td>\n",
       "      <td>57935.000000</td>\n",
       "      <td>6780.000000</td>\n",
       "      <td>6750.000000</td>\n",
       "      <td>42100.000000</td>\n",
       "      <td>2005.000000</td>\n",
       "      <td>NaN</td>\n",
       "    </tr>\n",
       "    <tr>\n",
       "      <th>75%</th>\n",
       "      <td>276.250000</td>\n",
       "      <td>44.000000</td>\n",
       "      <td>759099.750000</td>\n",
       "      <td>2000.000000</td>\n",
       "      <td>1415.740000</td>\n",
       "      <td>0.000000e+00</td>\n",
       "      <td>603251.000000</td>\n",
       "      <td>51075.000000</td>\n",
       "      <td>0.000000</td>\n",
       "      <td>17.000000</td>\n",
       "      <td>3.00000</td>\n",
       "      <td>2.000000</td>\n",
       "      <td>2.000000</td>\n",
       "      <td>70620.000000</td>\n",
       "      <td>11310.000000</td>\n",
       "      <td>10890.000000</td>\n",
       "      <td>50822.500000</td>\n",
       "      <td>2010.000000</td>\n",
       "      <td>NaN</td>\n",
       "    </tr>\n",
       "    <tr>\n",
       "      <th>max</th>\n",
       "      <td>479.000000</td>\n",
       "      <td>64.000000</td>\n",
       "      <td>999435.000000</td>\n",
       "      <td>2000.000000</td>\n",
       "      <td>2047.590000</td>\n",
       "      <td>1.000000e+07</td>\n",
       "      <td>620962.000000</td>\n",
       "      <td>100500.000000</td>\n",
       "      <td>0.000000</td>\n",
       "      <td>23.000000</td>\n",
       "      <td>4.00000</td>\n",
       "      <td>2.000000</td>\n",
       "      <td>3.000000</td>\n",
       "      <td>114920.000000</td>\n",
       "      <td>21450.000000</td>\n",
       "      <td>23670.000000</td>\n",
       "      <td>79560.000000</td>\n",
       "      <td>2015.000000</td>\n",
       "      <td>NaN</td>\n",
       "    </tr>\n",
       "  </tbody>\n",
       "</table>\n",
       "</div>"
      ],
      "text/plain": [
       "       months_as_customer         age  policy_number  policy_deductable  \\\n",
       "count         1000.000000  998.000000    1000.000000         998.000000   \n",
       "mean           203.954000   38.962926  546238.648000        1134.268537   \n",
       "std            115.113174    9.135425  257063.005276         611.251914   \n",
       "min              0.000000   19.000000  100804.000000         500.000000   \n",
       "25%            115.750000   32.000000  335980.250000         500.000000   \n",
       "50%            199.500000   38.000000  533135.000000        1000.000000   \n",
       "75%            276.250000   44.000000  759099.750000        2000.000000   \n",
       "max            479.000000   64.000000  999435.000000        2000.000000   \n",
       "\n",
       "       policy_annual_premium  umbrella_limit    insured_zip  capital-gains  \\\n",
       "count             997.000000    1.000000e+03    1000.000000     998.000000   \n",
       "mean             1257.001113    1.101000e+06  501214.488000   25176.452906   \n",
       "std               244.265051    2.297407e+06   71701.610941   27877.379027   \n",
       "min               433.330000   -1.000000e+06  430104.000000       0.000000   \n",
       "25%              1090.320000    0.000000e+00  448404.500000       0.000000   \n",
       "50%              1257.830000    0.000000e+00  466445.500000       0.000000   \n",
       "75%              1415.740000    0.000000e+00  603251.000000   51075.000000   \n",
       "max              2047.590000    1.000000e+07  620962.000000  100500.000000   \n",
       "\n",
       "        capital-loss  incident_hour_of_the_day  number_of_vehicles_involved  \\\n",
       "count    1000.000000               1000.000000                   1000.00000   \n",
       "mean   -26793.700000                 11.644000                      1.83900   \n",
       "std     28104.096686                  6.951373                      1.01888   \n",
       "min   -111100.000000                  0.000000                      1.00000   \n",
       "25%    -51500.000000                  6.000000                      1.00000   \n",
       "50%    -23250.000000                 12.000000                      1.00000   \n",
       "75%         0.000000                 17.000000                      3.00000   \n",
       "max         0.000000                 23.000000                      4.00000   \n",
       "\n",
       "       bodily_injuries    witnesses  total_claim_amount  injury_claim  \\\n",
       "count      1000.000000  1000.000000          996.000000    999.000000   \n",
       "mean          0.992000     1.487000        52767.469880   7434.944945   \n",
       "std           0.820127     1.111335        26405.348039   4883.158265   \n",
       "min           0.000000     0.000000          100.000000      0.000000   \n",
       "25%           0.000000     1.000000        41812.500000   4290.000000   \n",
       "50%           1.000000     1.000000        57935.000000   6780.000000   \n",
       "75%           2.000000     2.000000        70620.000000  11310.000000   \n",
       "max           2.000000     3.000000       114920.000000  21450.000000   \n",
       "\n",
       "       property_claim  vehicle_claim    auto_year  _c39  \n",
       "count      999.000000    1000.000000  1000.000000   0.0  \n",
       "mean      7398.628629   37928.950000  2005.103000   NaN  \n",
       "std       4827.050887   18886.252893     6.015861   NaN  \n",
       "min          0.000000      70.000000  1995.000000   NaN  \n",
       "25%       4440.000000   30292.500000  2000.000000   NaN  \n",
       "50%       6750.000000   42100.000000  2005.000000   NaN  \n",
       "75%      10890.000000   50822.500000  2010.000000   NaN  \n",
       "max      23670.000000   79560.000000  2015.000000   NaN  "
      ]
     },
     "execution_count": 6,
     "metadata": {},
     "output_type": "execute_result"
    }
   ],
   "source": [
    "df.describe()"
   ]
  },
  {
   "cell_type": "markdown",
   "id": "b86b2060",
   "metadata": {},
   "source": [
    "- The mean, std (standard deviation), min, 25%, 50% (median), 75%, and max values are provided for each numeric column."
   ]
  },
  {
   "cell_type": "markdown",
   "id": "7f2631ad",
   "metadata": {},
   "source": [
    "#### Observations:\n",
    "- Some columns, like age, policy_deductable, policy_annual_premium, and others, have missing values that need to be addressed.\n",
    "- Columns like capital-gains and capital-loss have negative values, which might be valid but need further investigation.\n",
    "- The umbrella_limit column has a wide range of values, including negative values, which may need attention.\n",
    "- The incident_hour_of_the_day column has values ranging from 0 to 23, indicating the hour of the day when an incident occurred."
   ]
  },
  {
   "cell_type": "markdown",
   "id": "b4c483dd",
   "metadata": {},
   "source": [
    "# 5. Data Cleaning"
   ]
  },
  {
   "cell_type": "markdown",
   "id": "0c319007",
   "metadata": {},
   "source": [
    "### 5.1 Create Copy of Dataset"
   ]
  },
  {
   "cell_type": "code",
   "execution_count": 7,
   "id": "6d7cff21",
   "metadata": {
    "scrolled": true
   },
   "outputs": [
    {
     "data": {
      "text/html": [
       "<div>\n",
       "<style scoped>\n",
       "    .dataframe tbody tr th:only-of-type {\n",
       "        vertical-align: middle;\n",
       "    }\n",
       "\n",
       "    .dataframe tbody tr th {\n",
       "        vertical-align: top;\n",
       "    }\n",
       "\n",
       "    .dataframe thead th {\n",
       "        text-align: right;\n",
       "    }\n",
       "</style>\n",
       "<table border=\"1\" class=\"dataframe\">\n",
       "  <thead>\n",
       "    <tr style=\"text-align: right;\">\n",
       "      <th></th>\n",
       "      <th>months_as_customer</th>\n",
       "      <th>age</th>\n",
       "      <th>policy_number</th>\n",
       "      <th>policy_bind_date</th>\n",
       "      <th>policy_state</th>\n",
       "      <th>policy_csl</th>\n",
       "      <th>policy_deductable</th>\n",
       "      <th>policy_annual_premium</th>\n",
       "      <th>umbrella_limit</th>\n",
       "      <th>insured_zip</th>\n",
       "      <th>...</th>\n",
       "      <th>police_report_available</th>\n",
       "      <th>total_claim_amount</th>\n",
       "      <th>injury_claim</th>\n",
       "      <th>property_claim</th>\n",
       "      <th>vehicle_claim</th>\n",
       "      <th>auto_make</th>\n",
       "      <th>auto_model</th>\n",
       "      <th>auto_year</th>\n",
       "      <th>fraud_reported</th>\n",
       "      <th>_c39</th>\n",
       "    </tr>\n",
       "  </thead>\n",
       "  <tbody>\n",
       "    <tr>\n",
       "      <th>0</th>\n",
       "      <td>328</td>\n",
       "      <td>48.0</td>\n",
       "      <td>521585</td>\n",
       "      <td>2014-10-17</td>\n",
       "      <td>OH</td>\n",
       "      <td>250/500</td>\n",
       "      <td>1000.0</td>\n",
       "      <td>1406.91</td>\n",
       "      <td>0</td>\n",
       "      <td>466132</td>\n",
       "      <td>...</td>\n",
       "      <td>YES</td>\n",
       "      <td>71610.0</td>\n",
       "      <td>6510.0</td>\n",
       "      <td>13020.0</td>\n",
       "      <td>52080</td>\n",
       "      <td>Saab</td>\n",
       "      <td>92x</td>\n",
       "      <td>2004</td>\n",
       "      <td>Y</td>\n",
       "      <td>NaN</td>\n",
       "    </tr>\n",
       "    <tr>\n",
       "      <th>1</th>\n",
       "      <td>228</td>\n",
       "      <td>42.0</td>\n",
       "      <td>342868</td>\n",
       "      <td>2006-06-27</td>\n",
       "      <td>IN</td>\n",
       "      <td>250/500</td>\n",
       "      <td>2000.0</td>\n",
       "      <td>1197.22</td>\n",
       "      <td>5000000</td>\n",
       "      <td>468176</td>\n",
       "      <td>...</td>\n",
       "      <td>?</td>\n",
       "      <td>5070.0</td>\n",
       "      <td>780.0</td>\n",
       "      <td>780.0</td>\n",
       "      <td>3510</td>\n",
       "      <td>Mercedes</td>\n",
       "      <td>E400</td>\n",
       "      <td>2007</td>\n",
       "      <td>Y</td>\n",
       "      <td>NaN</td>\n",
       "    </tr>\n",
       "    <tr>\n",
       "      <th>2</th>\n",
       "      <td>134</td>\n",
       "      <td>29.0</td>\n",
       "      <td>687698</td>\n",
       "      <td>2000-09-06</td>\n",
       "      <td>OH</td>\n",
       "      <td>100/300</td>\n",
       "      <td>2000.0</td>\n",
       "      <td>1413.14</td>\n",
       "      <td>5000000</td>\n",
       "      <td>430632</td>\n",
       "      <td>...</td>\n",
       "      <td>NO</td>\n",
       "      <td>34650.0</td>\n",
       "      <td>7700.0</td>\n",
       "      <td>3850.0</td>\n",
       "      <td>23100</td>\n",
       "      <td>Dodge</td>\n",
       "      <td>RAM</td>\n",
       "      <td>2007</td>\n",
       "      <td>N</td>\n",
       "      <td>NaN</td>\n",
       "    </tr>\n",
       "    <tr>\n",
       "      <th>3</th>\n",
       "      <td>256</td>\n",
       "      <td>41.0</td>\n",
       "      <td>227811</td>\n",
       "      <td>1990-05-25</td>\n",
       "      <td>IL</td>\n",
       "      <td>250/500</td>\n",
       "      <td>2000.0</td>\n",
       "      <td>1415.74</td>\n",
       "      <td>6000000</td>\n",
       "      <td>608117</td>\n",
       "      <td>...</td>\n",
       "      <td>NO</td>\n",
       "      <td>63400.0</td>\n",
       "      <td>6340.0</td>\n",
       "      <td>6340.0</td>\n",
       "      <td>50720</td>\n",
       "      <td>Chevrolet</td>\n",
       "      <td>Tahoe</td>\n",
       "      <td>2014</td>\n",
       "      <td>Y</td>\n",
       "      <td>NaN</td>\n",
       "    </tr>\n",
       "    <tr>\n",
       "      <th>4</th>\n",
       "      <td>228</td>\n",
       "      <td>44.0</td>\n",
       "      <td>367455</td>\n",
       "      <td>2014-06-06</td>\n",
       "      <td>IL</td>\n",
       "      <td>500/1000</td>\n",
       "      <td>1000.0</td>\n",
       "      <td>1583.91</td>\n",
       "      <td>6000000</td>\n",
       "      <td>610706</td>\n",
       "      <td>...</td>\n",
       "      <td>NO</td>\n",
       "      <td>6500.0</td>\n",
       "      <td>1300.0</td>\n",
       "      <td>650.0</td>\n",
       "      <td>4550</td>\n",
       "      <td>Accura</td>\n",
       "      <td>RSX</td>\n",
       "      <td>2009</td>\n",
       "      <td>N</td>\n",
       "      <td>NaN</td>\n",
       "    </tr>\n",
       "  </tbody>\n",
       "</table>\n",
       "<p>5 rows × 40 columns</p>\n",
       "</div>"
      ],
      "text/plain": [
       "   months_as_customer   age  policy_number policy_bind_date policy_state  \\\n",
       "0                 328  48.0         521585       2014-10-17           OH   \n",
       "1                 228  42.0         342868       2006-06-27           IN   \n",
       "2                 134  29.0         687698       2000-09-06           OH   \n",
       "3                 256  41.0         227811       1990-05-25           IL   \n",
       "4                 228  44.0         367455       2014-06-06           IL   \n",
       "\n",
       "  policy_csl  policy_deductable  policy_annual_premium  umbrella_limit  \\\n",
       "0    250/500             1000.0                1406.91               0   \n",
       "1    250/500             2000.0                1197.22         5000000   \n",
       "2    100/300             2000.0                1413.14         5000000   \n",
       "3    250/500             2000.0                1415.74         6000000   \n",
       "4   500/1000             1000.0                1583.91         6000000   \n",
       "\n",
       "   insured_zip  ... police_report_available total_claim_amount injury_claim  \\\n",
       "0       466132  ...                     YES            71610.0       6510.0   \n",
       "1       468176  ...                       ?             5070.0        780.0   \n",
       "2       430632  ...                      NO            34650.0       7700.0   \n",
       "3       608117  ...                      NO            63400.0       6340.0   \n",
       "4       610706  ...                      NO             6500.0       1300.0   \n",
       "\n",
       "  property_claim vehicle_claim  auto_make  auto_model auto_year  \\\n",
       "0        13020.0         52080       Saab         92x      2004   \n",
       "1          780.0          3510   Mercedes        E400      2007   \n",
       "2         3850.0         23100      Dodge         RAM      2007   \n",
       "3         6340.0         50720  Chevrolet       Tahoe      2014   \n",
       "4          650.0          4550     Accura         RSX      2009   \n",
       "\n",
       "  fraud_reported _c39  \n",
       "0              Y  NaN  \n",
       "1              Y  NaN  \n",
       "2              N  NaN  \n",
       "3              Y  NaN  \n",
       "4              N  NaN  \n",
       "\n",
       "[5 rows x 40 columns]"
      ]
     },
     "execution_count": 7,
     "metadata": {},
     "output_type": "execute_result"
    }
   ],
   "source": [
    "# Create copy of the DataFrame\n",
    "df_copy = df.copy()\n",
    "\n",
    "# Display the first few rows of the copied DataFrame to verify\n",
    "df_copy.head()"
   ]
  },
  {
   "cell_type": "markdown",
   "id": "2d18f184",
   "metadata": {},
   "source": [
    "### 5.2 Handling Missing Values"
   ]
  },
  {
   "cell_type": "code",
   "execution_count": 8,
   "id": "dc88c3dc",
   "metadata": {},
   "outputs": [
    {
     "name": "stdout",
     "output_type": "stream",
     "text": [
      "age                         2\n",
      "policy_deductable           2\n",
      "policy_annual_premium       3\n",
      "insured_hobbies             2\n",
      "capital-gains               2\n",
      "authorities_contacted       2\n",
      "incident_state              2\n",
      "total_claim_amount          4\n",
      "injury_claim                1\n",
      "property_claim              1\n",
      "_c39                     1000\n",
      "dtype: int64\n"
     ]
    }
   ],
   "source": [
    "# Check for missing values in the DataFrame\n",
    "missing_values = df_copy.isnull().sum()\n",
    "\n",
    "# Display columns with missing values\n",
    "columns_with_missing = missing_values[missing_values > 0]\n",
    "print(columns_with_missing)"
   ]
  },
  {
   "cell_type": "code",
   "execution_count": 9,
   "id": "479707dc",
   "metadata": {},
   "outputs": [],
   "source": [
    "# Remove rows with missing values above a certain threshold (20%)\n",
    "threshold = 0.2 * len(df_copy)\n",
    "df_copy = df_copy.dropna(thresh = threshold, axis = 1)"
   ]
  },
  {
   "cell_type": "code",
   "execution_count": 10,
   "id": "c03581a5",
   "metadata": {},
   "outputs": [],
   "source": [
    "# Replace missing values in 'policy_deductable' with the mode\n",
    "df_copy['policy_deductable'] = df_copy['policy_deductable'].fillna(df_copy['policy_deductable'].mode().iloc[0])"
   ]
  },
  {
   "cell_type": "code",
   "execution_count": 11,
   "id": "c34ba91d",
   "metadata": {},
   "outputs": [],
   "source": [
    "# Replace missing values in other numeric columns with the mean\n",
    "numeric_cols = df_copy.select_dtypes(include = ['float64', 'int64']).columns\n",
    "df_copy[numeric_cols] = df_copy[numeric_cols].fillna(df_copy[numeric_cols].mean())\n",
    "\n",
    "# Round columns with missing values, which are of \"float\" datatype, to one decimal place\n",
    "float_cols_with_missing = df_copy[numeric_cols].columns[df_copy[numeric_cols].isnull().any()]\n",
    "df_copy[float_cols_with_missing] = df_copy[float_cols_with_missing].round(1)\n",
    "\n",
    "# Replace missing values in categorical columns with the mode\n",
    "categorical_cols = df_copy.select_dtypes(include = ['object']).columns\n",
    "df_copy[categorical_cols] = df_copy[categorical_cols].fillna(df_copy[categorical_cols].mode().iloc[0])"
   ]
  },
  {
   "cell_type": "code",
   "execution_count": 13,
   "id": "a8a6f9c7",
   "metadata": {
    "scrolled": true
   },
   "outputs": [
    {
     "name": "stdout",
     "output_type": "stream",
     "text": [
      "months_as_customer             0\n",
      "age                            0\n",
      "policy_number                  0\n",
      "policy_bind_date               0\n",
      "policy_state                   0\n",
      "policy_csl                     0\n",
      "policy_deductable              0\n",
      "policy_annual_premium          0\n",
      "umbrella_limit                 0\n",
      "insured_zip                    0\n",
      "insured_sex                    0\n",
      "insured_education_level        0\n",
      "insured_occupation             0\n",
      "insured_hobbies                0\n",
      "insured_relationship           0\n",
      "capital-gains                  0\n",
      "capital-loss                   0\n",
      "incident_date                  0\n",
      "incident_type                  0\n",
      "collision_type                 0\n",
      "incident_severity              0\n",
      "authorities_contacted          0\n",
      "incident_state                 0\n",
      "incident_city                  0\n",
      "incident_location              0\n",
      "incident_hour_of_the_day       0\n",
      "number_of_vehicles_involved    0\n",
      "property_damage                0\n",
      "bodily_injuries                0\n",
      "witnesses                      0\n",
      "police_report_available        0\n",
      "total_claim_amount             0\n",
      "injury_claim                   0\n",
      "property_claim                 0\n",
      "vehicle_claim                  0\n",
      "auto_make                      0\n",
      "auto_model                     0\n",
      "auto_year                      0\n",
      "fraud_reported                 0\n",
      "dtype: int64\n"
     ]
    }
   ],
   "source": [
    "# Check for any remaining missing values\n",
    "remaining_missing = df_copy.isnull().sum()\n",
    "print(remaining_missing)"
   ]
  },
  {
   "cell_type": "markdown",
   "id": "8df32972",
   "metadata": {},
   "source": [
    "Currently there are no missing values present in the dataset."
   ]
  },
  {
   "cell_type": "markdown",
   "id": "de9f150d",
   "metadata": {},
   "source": [
    "### 5.3 Change Datatypes"
   ]
  },
  {
   "cell_type": "code",
   "execution_count": 14,
   "id": "17ae69b7",
   "metadata": {
    "scrolled": true
   },
   "outputs": [
    {
     "name": "stdout",
     "output_type": "stream",
     "text": [
      "months_as_customer                      int64\n",
      "age                                   float64\n",
      "policy_number                           int64\n",
      "policy_bind_date               datetime64[ns]\n",
      "policy_state                           object\n",
      "policy_csl                             object\n",
      "policy_deductable                     float64\n",
      "policy_annual_premium                 float64\n",
      "umbrella_limit                          int64\n",
      "insured_zip                             int64\n",
      "insured_sex                            object\n",
      "insured_education_level                object\n",
      "insured_occupation                     object\n",
      "insured_hobbies                        object\n",
      "insured_relationship                   object\n",
      "capital-gains                         float64\n",
      "capital-loss                            int64\n",
      "incident_date                  datetime64[ns]\n",
      "incident_type                          object\n",
      "collision_type                         object\n",
      "incident_severity                      object\n",
      "authorities_contacted                  object\n",
      "incident_state                         object\n",
      "incident_city                          object\n",
      "incident_location                      object\n",
      "incident_hour_of_the_day                int64\n",
      "number_of_vehicles_involved             int64\n",
      "property_damage                        object\n",
      "bodily_injuries                         int64\n",
      "witnesses                               int64\n",
      "police_report_available                object\n",
      "total_claim_amount                    float64\n",
      "injury_claim                          float64\n",
      "property_claim                        float64\n",
      "vehicle_claim                           int64\n",
      "auto_make                              object\n",
      "auto_model                             object\n",
      "auto_year                               int64\n",
      "fraud_reported                         object\n",
      "dtype: object\n"
     ]
    }
   ],
   "source": [
    "# Check data types\n",
    "print(df_copy.dtypes)"
   ]
  },
  {
   "cell_type": "code",
   "execution_count": 15,
   "id": "f6ebabb2",
   "metadata": {},
   "outputs": [],
   "source": [
    "# Change float to integer datatypes\n",
    "\n",
    "# Convert 'Age' column\n",
    "df_copy['age'] = df_copy['age'].astype(int)\n",
    "\n",
    "# Convert 'total_claim_amount' column\n",
    "df_copy['total_claim_amount'] = df_copy['total_claim_amount'].astype(int)\n",
    "\n",
    "# Convert 'policy_deductable' column\n",
    "df_copy['policy_deductable'] = df_copy['policy_deductable'].astype(int)\n",
    "\n",
    "# Convert 'capital-gains' column\n",
    "df_copy['capital-gains'] = df_copy['capital-gains'].astype(int)\n",
    "\n",
    "# Convert 'injury_claim' column\n",
    "df_copy['injury_claim'] = df_copy['injury_claim'].astype(int)\n",
    "\n",
    "# Convert 'property_claim' column\n",
    "df_copy['property_claim'] = df_copy['property_claim'].astype(int)"
   ]
  },
  {
   "cell_type": "code",
   "execution_count": 16,
   "id": "ef7f9cfb",
   "metadata": {},
   "outputs": [],
   "source": [
    "# Round 'policy_annual_premium' column to two decimals\n",
    "df_copy['policy_annual_premium'] = df_copy['policy_annual_premium'].round(2)"
   ]
  },
  {
   "cell_type": "code",
   "execution_count": 17,
   "id": "54f5bfbf",
   "metadata": {},
   "outputs": [
    {
     "name": "stdout",
     "output_type": "stream",
     "text": [
      "months_as_customer                      int64\n",
      "age                                     int32\n",
      "policy_number                           int64\n",
      "policy_bind_date               datetime64[ns]\n",
      "policy_state                           object\n",
      "policy_csl                             object\n",
      "policy_deductable                       int32\n",
      "policy_annual_premium                 float64\n",
      "umbrella_limit                          int64\n",
      "insured_zip                             int64\n",
      "insured_sex                            object\n",
      "insured_education_level                object\n",
      "insured_occupation                     object\n",
      "insured_hobbies                        object\n",
      "insured_relationship                   object\n",
      "capital-gains                           int32\n",
      "capital-loss                            int64\n",
      "incident_date                  datetime64[ns]\n",
      "incident_type                          object\n",
      "collision_type                         object\n",
      "incident_severity                      object\n",
      "authorities_contacted                  object\n",
      "incident_state                         object\n",
      "incident_city                          object\n",
      "incident_location                      object\n",
      "incident_hour_of_the_day                int64\n",
      "number_of_vehicles_involved             int64\n",
      "property_damage                        object\n",
      "bodily_injuries                         int64\n",
      "witnesses                               int64\n",
      "police_report_available                object\n",
      "total_claim_amount                      int32\n",
      "injury_claim                            int32\n",
      "property_claim                          int32\n",
      "vehicle_claim                           int64\n",
      "auto_make                              object\n",
      "auto_model                             object\n",
      "auto_year                               int64\n",
      "fraud_reported                         object\n",
      "dtype: object\n"
     ]
    }
   ],
   "source": [
    "# Check data types\n",
    "print(df_copy.dtypes)"
   ]
  },
  {
   "cell_type": "markdown",
   "id": "6abbf0da",
   "metadata": {},
   "source": [
    "### 5.4 Calculate 5-Number Summary"
   ]
  },
  {
   "cell_type": "code",
   "execution_count": 18,
   "id": "82effa91",
   "metadata": {
    "scrolled": true
   },
   "outputs": [
    {
     "name": "stdout",
     "output_type": "stream",
     "text": [
      "       months_as_customer          age  policy_number  policy_deductable  \\\n",
      "count         1000.000000  1000.000000    1000.000000        1000.000000   \n",
      "mean           203.954000    38.961000  546238.648000        1134.000000   \n",
      "std            115.113174     9.126378  257063.005276         610.669237   \n",
      "min              0.000000    19.000000  100804.000000         500.000000   \n",
      "25%            115.750000    32.000000  335980.250000         500.000000   \n",
      "50%            199.500000    38.000000  533135.000000        1000.000000   \n",
      "75%            276.250000    44.000000  759099.750000        2000.000000   \n",
      "max            479.000000    64.000000  999435.000000        2000.000000   \n",
      "\n",
      "       policy_annual_premium  umbrella_limit    insured_zip  capital-gains  \\\n",
      "count            1000.000000    1.000000e+03    1000.000000    1000.000000   \n",
      "mean             1257.001110    1.101000e+06  501214.488000   25176.452000   \n",
      "std               243.898011    2.297407e+06   71701.610941   27849.459762   \n",
      "min               433.330000   -1.000000e+06  430104.000000       0.000000   \n",
      "25%              1090.567500    0.000000e+00  448404.500000       0.000000   \n",
      "50%              1257.200000    0.000000e+00  466445.500000       0.000000   \n",
      "75%              1415.695000    0.000000e+00  603251.000000   51025.000000   \n",
      "max              2047.590000    1.000000e+07  620962.000000  100500.000000   \n",
      "\n",
      "        capital-loss  incident_hour_of_the_day  number_of_vehicles_involved  \\\n",
      "count    1000.000000               1000.000000                   1000.00000   \n",
      "mean   -26793.700000                 11.644000                      1.83900   \n",
      "std     28104.096686                  6.951373                      1.01888   \n",
      "min   -111100.000000                  0.000000                      1.00000   \n",
      "25%    -51500.000000                  6.000000                      1.00000   \n",
      "50%    -23250.000000                 12.000000                      1.00000   \n",
      "75%         0.000000                 17.000000                      3.00000   \n",
      "max         0.000000                 23.000000                      4.00000   \n",
      "\n",
      "       bodily_injuries    witnesses  total_claim_amount  injury_claim  \\\n",
      "count      1000.000000  1000.000000         1000.000000    1000.00000   \n",
      "mean          0.992000     1.487000        52767.468000    7434.94400   \n",
      "std           0.820127     1.111335        26352.431456    4880.71363   \n",
      "min           0.000000     0.000000          100.000000       0.00000   \n",
      "25%           0.000000     1.000000        41962.500000    4295.00000   \n",
      "50%           1.000000     1.000000        57880.000000    6780.00000   \n",
      "75%           2.000000     2.000000        70532.500000   11305.00000   \n",
      "max           2.000000     3.000000       114920.000000   21450.00000   \n",
      "\n",
      "       property_claim  vehicle_claim    auto_year  \n",
      "count      1000.00000    1000.000000  1000.000000  \n",
      "mean       7398.62800   37928.950000  2005.103000  \n",
      "std        4824.63434   18886.252893     6.015861  \n",
      "min           0.00000      70.000000  1995.000000  \n",
      "25%        4445.00000   30292.500000  2000.000000  \n",
      "50%        6750.00000   42100.000000  2005.000000  \n",
      "75%       10885.00000   50822.500000  2010.000000  \n",
      "max       23670.00000   79560.000000  2015.000000  \n"
     ]
    }
   ],
   "source": [
    "# Display the 5-number summary for numeric columns\n",
    "five_num_summary = df_copy.describe()\n",
    "print(five_num_summary)"
   ]
  },
  {
   "cell_type": "markdown",
   "id": "a181d451",
   "metadata": {},
   "source": [
    "#### Boxplot for each Numerical Column"
   ]
  },
  {
   "cell_type": "code",
   "execution_count": 19,
   "id": "99f1d8cd",
   "metadata": {},
   "outputs": [
    {
     "data": {
      "image/png": "[encoded data removed]",
      "text/plain": [
       "<Figure size 1600x800 with 12 Axes>"
      ]
     },
     "metadata": {},
     "output_type": "display_data"
    }
   ],
   "source": [
    "# Define numeric columns for boxplot\n",
    "numeric_columns = df_copy.select_dtypes(include = ['int64', 'float64']).columns\n",
    "\n",
    "# Create boxplots for each numeric column\n",
    "plt.figure(figsize = (16, 8))\n",
    "for i, column in enumerate(numeric_columns, 1):\n",
    "    plt.subplot(4, 5, i)\n",
    "    sns.boxplot(x = df_copy[column])\n",
    "    plt.title(f'Boxplot of {column}')\n",
    "    plt.tight_layout()\n",
    "\n",
    "plt.show()"
   ]
  },
  {
   "cell_type": "markdown",
   "id": "7336054a",
   "metadata": {},
   "source": [
    "We can use the 5-number summary to address any outliers present in the dataset. As seen in the boxplots above we can see a huge amount of outliers present in the umbrella_limit column. "
   ]
  },
  {
   "cell_type": "markdown",
   "id": "ad4efea3",
   "metadata": {},
   "source": [
    "### 5.5 Handling Outliers"
   ]
  },
  {
   "cell_type": "code",
   "execution_count": 20,
   "id": "f454b64b",
   "metadata": {
    "scrolled": true
   },
   "outputs": [
    {
     "name": "stdout",
     "output_type": "stream",
     "text": [
      "months_as_customer              0\n",
      "policy_number                   0\n",
      "policy_annual_premium           3\n",
      "umbrella_limit                 15\n",
      "insured_zip                     0\n",
      "capital-loss                    1\n",
      "incident_hour_of_the_day        0\n",
      "number_of_vehicles_involved     0\n",
      "bodily_injuries                 0\n",
      "witnesses                       0\n",
      "vehicle_claim                   0\n",
      "auto_year                       0\n",
      "dtype: int64\n"
     ]
    }
   ],
   "source": [
    "# Calculate z-scores for each numeric column\n",
    "z_scores = stats.zscore(df_copy.select_dtypes(include=['float64', 'int64']))\n",
    "\n",
    "# Identify outliers based on a threshold\n",
    "outliers = (z_scores > 3) | (z_scores < -3)\n",
    "\n",
    "# Display number of outliers for each numeric column\n",
    "print(pd.DataFrame(outliers, columns = df_copy.select_dtypes(include = ['float64', 'int64']).columns).sum())"
   ]
  },
  {
   "cell_type": "markdown",
   "id": "71820eb2",
   "metadata": {},
   "source": [
    "Above we can see the following outliers present in the dataset:\n",
    "- There are 3 outliers in the policy_annual_premium column.\n",
    "- There are 15 outliers in the umbrella_limit column.\n",
    "- There are 1 outlier in the capital-loss column.\n",
    "- There are 1 outlier in the property_claim column."
   ]
  },
  {
   "cell_type": "code",
   "execution_count": 21,
   "id": "188114cd",
   "metadata": {},
   "outputs": [],
   "source": [
    "# Correct outliers using Winsorize\n",
    "winsorized_columns = ['policy_annual_premium', 'umbrella_limit', 'capital-loss', 'property_claim']\n",
    "for col in winsorized_columns:\n",
    "    df_copy[col] = winsorize(df_copy[col], limits = [0.05, 0.05])"
   ]
  },
  {
   "cell_type": "code",
   "execution_count": 22,
   "id": "a870d99b",
   "metadata": {
    "scrolled": false
   },
   "outputs": [
    {
     "name": "stdout",
     "output_type": "stream",
     "text": [
      "months_as_customer             0\n",
      "policy_number                  0\n",
      "policy_annual_premium          0\n",
      "umbrella_limit                 0\n",
      "insured_zip                    0\n",
      "capital-loss                   0\n",
      "incident_hour_of_the_day       0\n",
      "number_of_vehicles_involved    0\n",
      "bodily_injuries                0\n",
      "witnesses                      0\n",
      "vehicle_claim                  0\n",
      "auto_year                      0\n",
      "dtype: int64\n"
     ]
    }
   ],
   "source": [
    "# Calculate z-scores for each numeric column\n",
    "z_scores = stats.zscore(df_copy.select_dtypes(include=['float64', 'int64']))\n",
    "\n",
    "# Identify outliers based on threshold\n",
    "outliers = (z_scores > 3) | (z_scores < -3)\n",
    "\n",
    "# Display number of outliers for each numeric column\n",
    "print(pd.DataFrame(outliers, columns = df_copy.select_dtypes(include = ['float64', 'int64']).columns).sum())"
   ]
  },
  {
   "cell_type": "code",
   "execution_count": 23,
   "id": "0c927f7f",
   "metadata": {},
   "outputs": [
    {
     "data": {
      "text/html": [
       "<div>\n",
       "<style scoped>\n",
       "    .dataframe tbody tr th:only-of-type {\n",
       "        vertical-align: middle;\n",
       "    }\n",
       "\n",
       "    .dataframe tbody tr th {\n",
       "        vertical-align: top;\n",
       "    }\n",
       "\n",
       "    .dataframe thead th {\n",
       "        text-align: right;\n",
       "    }\n",
       "</style>\n",
       "<table border=\"1\" class=\"dataframe\">\n",
       "  <thead>\n",
       "    <tr style=\"text-align: right;\">\n",
       "      <th></th>\n",
       "      <th>months_as_customer</th>\n",
       "      <th>age</th>\n",
       "      <th>policy_number</th>\n",
       "      <th>policy_bind_date</th>\n",
       "      <th>policy_state</th>\n",
       "      <th>policy_csl</th>\n",
       "      <th>policy_deductable</th>\n",
       "      <th>policy_annual_premium</th>\n",
       "      <th>umbrella_limit</th>\n",
       "      <th>insured_zip</th>\n",
       "      <th>...</th>\n",
       "      <th>witnesses</th>\n",
       "      <th>police_report_available</th>\n",
       "      <th>total_claim_amount</th>\n",
       "      <th>injury_claim</th>\n",
       "      <th>property_claim</th>\n",
       "      <th>vehicle_claim</th>\n",
       "      <th>auto_make</th>\n",
       "      <th>auto_model</th>\n",
       "      <th>auto_year</th>\n",
       "      <th>fraud_reported</th>\n",
       "    </tr>\n",
       "  </thead>\n",
       "  <tbody>\n",
       "    <tr>\n",
       "      <th>0</th>\n",
       "      <td>328</td>\n",
       "      <td>48</td>\n",
       "      <td>521585</td>\n",
       "      <td>2014-10-17</td>\n",
       "      <td>OH</td>\n",
       "      <td>250/500</td>\n",
       "      <td>1000</td>\n",
       "      <td>1406.91</td>\n",
       "      <td>0</td>\n",
       "      <td>466132</td>\n",
       "      <td>...</td>\n",
       "      <td>2</td>\n",
       "      <td>YES</td>\n",
       "      <td>71610</td>\n",
       "      <td>6510</td>\n",
       "      <td>13020</td>\n",
       "      <td>52080</td>\n",
       "      <td>Saab</td>\n",
       "      <td>92x</td>\n",
       "      <td>2004</td>\n",
       "      <td>Y</td>\n",
       "    </tr>\n",
       "    <tr>\n",
       "      <th>1</th>\n",
       "      <td>228</td>\n",
       "      <td>42</td>\n",
       "      <td>342868</td>\n",
       "      <td>2006-06-27</td>\n",
       "      <td>IN</td>\n",
       "      <td>250/500</td>\n",
       "      <td>2000</td>\n",
       "      <td>1197.22</td>\n",
       "      <td>5000000</td>\n",
       "      <td>468176</td>\n",
       "      <td>...</td>\n",
       "      <td>0</td>\n",
       "      <td>?</td>\n",
       "      <td>5070</td>\n",
       "      <td>780</td>\n",
       "      <td>780</td>\n",
       "      <td>3510</td>\n",
       "      <td>Mercedes</td>\n",
       "      <td>E400</td>\n",
       "      <td>2007</td>\n",
       "      <td>Y</td>\n",
       "    </tr>\n",
       "    <tr>\n",
       "      <th>2</th>\n",
       "      <td>134</td>\n",
       "      <td>29</td>\n",
       "      <td>687698</td>\n",
       "      <td>2000-09-06</td>\n",
       "      <td>OH</td>\n",
       "      <td>100/300</td>\n",
       "      <td>2000</td>\n",
       "      <td>1413.14</td>\n",
       "      <td>5000000</td>\n",
       "      <td>430632</td>\n",
       "      <td>...</td>\n",
       "      <td>3</td>\n",
       "      <td>NO</td>\n",
       "      <td>34650</td>\n",
       "      <td>7700</td>\n",
       "      <td>3850</td>\n",
       "      <td>23100</td>\n",
       "      <td>Dodge</td>\n",
       "      <td>RAM</td>\n",
       "      <td>2007</td>\n",
       "      <td>N</td>\n",
       "    </tr>\n",
       "    <tr>\n",
       "      <th>3</th>\n",
       "      <td>256</td>\n",
       "      <td>41</td>\n",
       "      <td>227811</td>\n",
       "      <td>1990-05-25</td>\n",
       "      <td>IL</td>\n",
       "      <td>250/500</td>\n",
       "      <td>2000</td>\n",
       "      <td>1415.74</td>\n",
       "      <td>6000000</td>\n",
       "      <td>608117</td>\n",
       "      <td>...</td>\n",
       "      <td>2</td>\n",
       "      <td>NO</td>\n",
       "      <td>63400</td>\n",
       "      <td>6340</td>\n",
       "      <td>6340</td>\n",
       "      <td>50720</td>\n",
       "      <td>Chevrolet</td>\n",
       "      <td>Tahoe</td>\n",
       "      <td>2014</td>\n",
       "      <td>Y</td>\n",
       "    </tr>\n",
       "    <tr>\n",
       "      <th>4</th>\n",
       "      <td>228</td>\n",
       "      <td>44</td>\n",
       "      <td>367455</td>\n",
       "      <td>2014-06-06</td>\n",
       "      <td>IL</td>\n",
       "      <td>500/1000</td>\n",
       "      <td>1000</td>\n",
       "      <td>1583.91</td>\n",
       "      <td>6000000</td>\n",
       "      <td>610706</td>\n",
       "      <td>...</td>\n",
       "      <td>1</td>\n",
       "      <td>NO</td>\n",
       "      <td>6500</td>\n",
       "      <td>1300</td>\n",
       "      <td>650</td>\n",
       "      <td>4550</td>\n",
       "      <td>Accura</td>\n",
       "      <td>RSX</td>\n",
       "      <td>2009</td>\n",
       "      <td>N</td>\n",
       "    </tr>\n",
       "  </tbody>\n",
       "</table>\n",
       "<p>5 rows × 39 columns</p>\n",
       "</div>"
      ],
      "text/plain": [
       "   months_as_customer  age  policy_number policy_bind_date policy_state  \\\n",
       "0                 328   48         521585       2014-10-17           OH   \n",
       "1                 228   42         342868       2006-06-27           IN   \n",
       "2                 134   29         687698       2000-09-06           OH   \n",
       "3                 256   41         227811       1990-05-25           IL   \n",
       "4                 228   44         367455       2014-06-06           IL   \n",
       "\n",
       "  policy_csl  policy_deductable  policy_annual_premium  umbrella_limit  \\\n",
       "0    250/500               1000                1406.91               0   \n",
       "1    250/500               2000                1197.22         5000000   \n",
       "2    100/300               2000                1413.14         5000000   \n",
       "3    250/500               2000                1415.74         6000000   \n",
       "4   500/1000               1000                1583.91         6000000   \n",
       "\n",
       "   insured_zip  ... witnesses police_report_available total_claim_amount  \\\n",
       "0       466132  ...         2                     YES              71610   \n",
       "1       468176  ...         0                       ?               5070   \n",
       "2       430632  ...         3                      NO              34650   \n",
       "3       608117  ...         2                      NO              63400   \n",
       "4       610706  ...         1                      NO               6500   \n",
       "\n",
       "  injury_claim property_claim  vehicle_claim  auto_make auto_model auto_year  \\\n",
       "0         6510          13020          52080       Saab        92x      2004   \n",
       "1          780            780           3510   Mercedes       E400      2007   \n",
       "2         7700           3850          23100      Dodge        RAM      2007   \n",
       "3         6340           6340          50720  Chevrolet      Tahoe      2014   \n",
       "4         1300            650           4550     Accura        RSX      2009   \n",
       "\n",
       "  fraud_reported  \n",
       "0              Y  \n",
       "1              Y  \n",
       "2              N  \n",
       "3              Y  \n",
       "4              N  \n",
       "\n",
       "[5 rows x 39 columns]"
      ]
     },
     "execution_count": 23,
     "metadata": {},
     "output_type": "execute_result"
    }
   ],
   "source": [
    "df_copy.head()"
   ]
  },
  {
   "cell_type": "markdown",
   "id": "0b358698",
   "metadata": {},
   "source": [
    "As seen above there are currently no outliers present in the dataframe."
   ]
  },
  {
   "cell_type": "markdown",
   "id": "857601f6",
   "metadata": {},
   "source": [
    "# 6. Feature Engineering"
   ]
  },
  {
   "cell_type": "markdown",
   "id": "97197baf",
   "metadata": {},
   "source": [
    "Next we will be looking at the following:\n",
    "\n",
    "- Handling Missing Values\n",
    "- Binding Numeric Variables\n",
    "- Correlation Matrix Using a Heatmap\n",
    "- Creating New Features\n",
    "- Feature Joining"
   ]
  },
  {
   "cell_type": "markdown",
   "id": "5c63fcb8",
   "metadata": {},
   "source": [
    "### 6.1 Handling Missing Values"
   ]
  },
  {
   "cell_type": "code",
   "execution_count": 31,
   "id": "b7990b86",
   "metadata": {
    "scrolled": true
   },
   "outputs": [
    {
     "data": {
      "text/plain": [
       "months_as_customer             0\n",
       "age                            0\n",
       "policy_number                  0\n",
       "policy_bind_date               0\n",
       "policy_state                   0\n",
       "policy_csl                     0\n",
       "policy_deductable              0\n",
       "policy_annual_premium          0\n",
       "umbrella_limit                 0\n",
       "insured_zip                    0\n",
       "insured_sex                    0\n",
       "insured_education_level        0\n",
       "insured_occupation             0\n",
       "insured_hobbies                0\n",
       "insured_relationship           0\n",
       "capital-gains                  0\n",
       "capital-loss                   0\n",
       "incident_date                  0\n",
       "incident_type                  0\n",
       "collision_type                 0\n",
       "incident_severity              0\n",
       "authorities_contacted          0\n",
       "incident_state                 0\n",
       "incident_city                  0\n",
       "incident_location              0\n",
       "incident_hour_of_the_day       0\n",
       "number_of_vehicles_involved    0\n",
       "property_damage                0\n",
       "bodily_injuries                0\n",
       "witnesses                      0\n",
       "police_report_available        0\n",
       "total_claim_amount             0\n",
       "injury_claim                   0\n",
       "property_claim                 0\n",
       "vehicle_claim                  0\n",
       "auto_make                      0\n",
       "auto_model                     0\n",
       "auto_year                      0\n",
       "fraud_reported                 0\n",
       "ages_category                  0\n",
       "customer_category              1\n",
       "dtype: int64"
      ]
     },
     "execution_count": 31,
     "metadata": {},
     "output_type": "execute_result"
    }
   ],
   "source": [
    "# Check for missing values\n",
    "null_counts = df_copy.isnull().sum()\n",
    "null_counts"
   ]
  },
  {
   "cell_type": "markdown",
   "id": "4a7d7014",
   "metadata": {},
   "source": [
    "There are currently no missing values in the dataframe as we have already removed and replaced them under the Data Cleaning section."
   ]
  },
  {
   "cell_type": "markdown",
   "id": "abdba560",
   "metadata": {},
   "source": [
    "### 6.2 Binding Numeric Data"
   ]
  },
  {
   "cell_type": "markdown",
   "id": "4d2372f3",
   "metadata": {},
   "source": [
    "Next we introduced two additional columns: 'Age Category' and 'Customer Category' strategically crafted to streamline data representation and enhance clarity."
   ]
  },
  {
   "cell_type": "markdown",
   "id": "57bd2fab",
   "metadata": {},
   "source": [
    "#### Creating Age Labels"
   ]
  },
  {
   "cell_type": "code",
   "execution_count": 32,
   "id": "b288c8ea",
   "metadata": {},
   "outputs": [
    {
     "data": {
      "image/png": "[encoded data removed]",
      "text/plain": [
       "<Figure size 640x480 with 1 Axes>"
      ]
     },
     "metadata": {},
     "output_type": "display_data"
    }
   ],
   "source": [
    "# Create a histogram for the \"Age\" column\n",
    "column_name = 'age'\n",
    "\n",
    "# Plot histogram\n",
    "plt.hist(df_copy[column_name], bins = 3, edgecolor = 'black')\n",
    "\n",
    "# Add labels and title\n",
    "plt.xlabel(column_name)\n",
    "plt.ylabel('Frequency')\n",
    "plt.title(f'Histogram of {column_name}')\n",
    "\n",
    "# Display histogram\n",
    "plt.show()"
   ]
  },
  {
   "cell_type": "markdown",
   "id": "12fefba1",
   "metadata": {},
   "source": [
    "The histogram above illustrates that the age group centered around 40, ranging from 35 to 48, experiences the highest frequency of occurrences, represented by the tallest bar. Conversely, the age range between 50 and 65 displays the lowest frequency, as indicated by a shorter bar on the histogram. Creating age bins would be a much better way in understanding and interpreting the data displayed above."
   ]
  },
  {
   "cell_type": "code",
   "execution_count": 33,
   "id": "5aa70a7e",
   "metadata": {},
   "outputs": [],
   "source": [
    "# Define bin edges\n",
    "bin_edges = [0, 30, 55, 100]\n",
    "\n",
    "# Corresponding labels for each bin\n",
    "bin_labels = ['Young Adult', 'Middle Aged', 'Elderly']\n",
    "\n",
    "# Create a new column based on bin labels\n",
    "df_copy['ages_category'] = pd.cut(df_copy['age'], bins = bin_edges, labels = bin_labels)"
   ]
  },
  {
   "cell_type": "code",
   "execution_count": 34,
   "id": "c5ad18fb",
   "metadata": {},
   "outputs": [
    {
     "data": {
      "image/png": "[encoded data removed]",
      "text/plain": [
       "<Figure size 800x600 with 1 Axes>"
      ]
     },
     "metadata": {},
     "output_type": "display_data"
    }
   ],
   "source": [
    "# Create a histogram for age categories\n",
    "plt.figure(figsize = (8, 6))\n",
    "sns.countplot(x = 'ages_category', data = df_copy, palette = 'muted')\n",
    "plt.title('Age Categories of Customers')\n",
    "plt.xlabel('Age Category')\n",
    "plt.ylabel('Count')\n",
    "plt.show()"
   ]
  },
  {
   "cell_type": "markdown",
   "id": "31705be3",
   "metadata": {},
   "source": [
    "In the histogram depicting customer age categories, it's evident that the majority fall within the Middle-Aged category, while the elderly age group comprises the smallest portion of customers."
   ]
  },
  {
   "cell_type": "markdown",
   "id": "01c74364",
   "metadata": {},
   "source": [
    "#### Creating Customer Labels"
   ]
  },
  {
   "cell_type": "code",
   "execution_count": 35,
   "id": "cd7f37e1",
   "metadata": {},
   "outputs": [],
   "source": [
    "# Define bin edges\n",
    "bin_edges_customer = [0, 25, 150, 500]\n",
    "\n",
    "# Define labels for each bin\n",
    "bin_labels_customer = ['New Client', 'Established Client', 'Long-Term Client']  \n",
    "\n",
    "# Create a new column based on bin labels\n",
    "df_copy['customer_category'] = pd.cut(df_copy['months_as_customer'], bins = bin_edges_customer, labels = bin_labels_customer)"
   ]
  },
  {
   "cell_type": "code",
   "execution_count": 36,
   "id": "ebb891a0",
   "metadata": {},
   "outputs": [
    {
     "data": {
      "image/png": "[encoded data removed]",
      "text/plain": [
       "<Figure size 800x600 with 1 Axes>"
      ]
     },
     "metadata": {},
     "output_type": "display_data"
    }
   ],
   "source": [
    "# Create a histogram for customer categories\n",
    "plt.figure(figsize = (8, 6))\n",
    "sns.countplot(x = 'customer_category', data = df_copy, palette = 'viridis')\n",
    "plt.title('Customer Categories')\n",
    "plt.xlabel('Customer Category')\n",
    "plt.ylabel('Count')\n",
    "plt.show()"
   ]
  },
  {
   "cell_type": "markdown",
   "id": "3f1e2a81",
   "metadata": {},
   "source": [
    "As seen above, the histogram illustrates that the majority of customers fall into the Long-Term Client category, while the representation of New Clients is notably lower."
   ]
  },
  {
   "cell_type": "code",
   "execution_count": 37,
   "id": "a66dae43",
   "metadata": {
    "scrolled": false
   },
   "outputs": [
    {
     "data": {
      "text/html": [
       "<div>\n",
       "<style scoped>\n",
       "    .dataframe tbody tr th:only-of-type {\n",
       "        vertical-align: middle;\n",
       "    }\n",
       "\n",
       "    .dataframe tbody tr th {\n",
       "        vertical-align: top;\n",
       "    }\n",
       "\n",
       "    .dataframe thead th {\n",
       "        text-align: right;\n",
       "    }\n",
       "</style>\n",
       "<table border=\"1\" class=\"dataframe\">\n",
       "  <thead>\n",
       "    <tr style=\"text-align: right;\">\n",
       "      <th></th>\n",
       "      <th>months_as_customer</th>\n",
       "      <th>age</th>\n",
       "      <th>policy_number</th>\n",
       "      <th>policy_bind_date</th>\n",
       "      <th>policy_state</th>\n",
       "      <th>policy_csl</th>\n",
       "      <th>policy_deductable</th>\n",
       "      <th>policy_annual_premium</th>\n",
       "      <th>umbrella_limit</th>\n",
       "      <th>insured_zip</th>\n",
       "      <th>...</th>\n",
       "      <th>total_claim_amount</th>\n",
       "      <th>injury_claim</th>\n",
       "      <th>property_claim</th>\n",
       "      <th>vehicle_claim</th>\n",
       "      <th>auto_make</th>\n",
       "      <th>auto_model</th>\n",
       "      <th>auto_year</th>\n",
       "      <th>fraud_reported</th>\n",
       "      <th>ages_category</th>\n",
       "      <th>customer_category</th>\n",
       "    </tr>\n",
       "  </thead>\n",
       "  <tbody>\n",
       "    <tr>\n",
       "      <th>0</th>\n",
       "      <td>328</td>\n",
       "      <td>48</td>\n",
       "      <td>521585</td>\n",
       "      <td>2014-10-17</td>\n",
       "      <td>OH</td>\n",
       "      <td>250/500</td>\n",
       "      <td>1000</td>\n",
       "      <td>1406.91</td>\n",
       "      <td>0</td>\n",
       "      <td>466132</td>\n",
       "      <td>...</td>\n",
       "      <td>71610</td>\n",
       "      <td>6510</td>\n",
       "      <td>13020</td>\n",
       "      <td>52080</td>\n",
       "      <td>Saab</td>\n",
       "      <td>92x</td>\n",
       "      <td>2004</td>\n",
       "      <td>Y</td>\n",
       "      <td>Middle Aged</td>\n",
       "      <td>Long-Term Client</td>\n",
       "    </tr>\n",
       "    <tr>\n",
       "      <th>1</th>\n",
       "      <td>228</td>\n",
       "      <td>42</td>\n",
       "      <td>342868</td>\n",
       "      <td>2006-06-27</td>\n",
       "      <td>IN</td>\n",
       "      <td>250/500</td>\n",
       "      <td>2000</td>\n",
       "      <td>1197.22</td>\n",
       "      <td>5000000</td>\n",
       "      <td>468176</td>\n",
       "      <td>...</td>\n",
       "      <td>5070</td>\n",
       "      <td>780</td>\n",
       "      <td>780</td>\n",
       "      <td>3510</td>\n",
       "      <td>Mercedes</td>\n",
       "      <td>E400</td>\n",
       "      <td>2007</td>\n",
       "      <td>Y</td>\n",
       "      <td>Middle Aged</td>\n",
       "      <td>Long-Term Client</td>\n",
       "    </tr>\n",
       "    <tr>\n",
       "      <th>2</th>\n",
       "      <td>134</td>\n",
       "      <td>29</td>\n",
       "      <td>687698</td>\n",
       "      <td>2000-09-06</td>\n",
       "      <td>OH</td>\n",
       "      <td>100/300</td>\n",
       "      <td>2000</td>\n",
       "      <td>1413.14</td>\n",
       "      <td>5000000</td>\n",
       "      <td>430632</td>\n",
       "      <td>...</td>\n",
       "      <td>34650</td>\n",
       "      <td>7700</td>\n",
       "      <td>3850</td>\n",
       "      <td>23100</td>\n",
       "      <td>Dodge</td>\n",
       "      <td>RAM</td>\n",
       "      <td>2007</td>\n",
       "      <td>N</td>\n",
       "      <td>Young Adult</td>\n",
       "      <td>Established Client</td>\n",
       "    </tr>\n",
       "    <tr>\n",
       "      <th>3</th>\n",
       "      <td>256</td>\n",
       "      <td>41</td>\n",
       "      <td>227811</td>\n",
       "      <td>1990-05-25</td>\n",
       "      <td>IL</td>\n",
       "      <td>250/500</td>\n",
       "      <td>2000</td>\n",
       "      <td>1415.74</td>\n",
       "      <td>6000000</td>\n",
       "      <td>608117</td>\n",
       "      <td>...</td>\n",
       "      <td>63400</td>\n",
       "      <td>6340</td>\n",
       "      <td>6340</td>\n",
       "      <td>50720</td>\n",
       "      <td>Chevrolet</td>\n",
       "      <td>Tahoe</td>\n",
       "      <td>2014</td>\n",
       "      <td>Y</td>\n",
       "      <td>Middle Aged</td>\n",
       "      <td>Long-Term Client</td>\n",
       "    </tr>\n",
       "    <tr>\n",
       "      <th>4</th>\n",
       "      <td>228</td>\n",
       "      <td>44</td>\n",
       "      <td>367455</td>\n",
       "      <td>2014-06-06</td>\n",
       "      <td>IL</td>\n",
       "      <td>500/1000</td>\n",
       "      <td>1000</td>\n",
       "      <td>1583.91</td>\n",
       "      <td>6000000</td>\n",
       "      <td>610706</td>\n",
       "      <td>...</td>\n",
       "      <td>6500</td>\n",
       "      <td>1300</td>\n",
       "      <td>650</td>\n",
       "      <td>4550</td>\n",
       "      <td>Accura</td>\n",
       "      <td>RSX</td>\n",
       "      <td>2009</td>\n",
       "      <td>N</td>\n",
       "      <td>Middle Aged</td>\n",
       "      <td>Long-Term Client</td>\n",
       "    </tr>\n",
       "  </tbody>\n",
       "</table>\n",
       "<p>5 rows × 41 columns</p>\n",
       "</div>"
      ],
      "text/plain": [
       "   months_as_customer  age  policy_number policy_bind_date policy_state  \\\n",
       "0                 328   48         521585       2014-10-17           OH   \n",
       "1                 228   42         342868       2006-06-27           IN   \n",
       "2                 134   29         687698       2000-09-06           OH   \n",
       "3                 256   41         227811       1990-05-25           IL   \n",
       "4                 228   44         367455       2014-06-06           IL   \n",
       "\n",
       "  policy_csl  policy_deductable  policy_annual_premium  umbrella_limit  \\\n",
       "0    250/500               1000                1406.91               0   \n",
       "1    250/500               2000                1197.22         5000000   \n",
       "2    100/300               2000                1413.14         5000000   \n",
       "3    250/500               2000                1415.74         6000000   \n",
       "4   500/1000               1000                1583.91         6000000   \n",
       "\n",
       "   insured_zip  ... total_claim_amount injury_claim property_claim  \\\n",
       "0       466132  ...              71610         6510          13020   \n",
       "1       468176  ...               5070          780            780   \n",
       "2       430632  ...              34650         7700           3850   \n",
       "3       608117  ...              63400         6340           6340   \n",
       "4       610706  ...               6500         1300            650   \n",
       "\n",
       "  vehicle_claim  auto_make  auto_model  auto_year fraud_reported  \\\n",
       "0         52080       Saab         92x       2004              Y   \n",
       "1          3510   Mercedes        E400       2007              Y   \n",
       "2         23100      Dodge         RAM       2007              N   \n",
       "3         50720  Chevrolet       Tahoe       2014              Y   \n",
       "4          4550     Accura         RSX       2009              N   \n",
       "\n",
       "  ages_category   customer_category  \n",
       "0   Middle Aged    Long-Term Client  \n",
       "1   Middle Aged    Long-Term Client  \n",
       "2   Young Adult  Established Client  \n",
       "3   Middle Aged    Long-Term Client  \n",
       "4   Middle Aged    Long-Term Client  \n",
       "\n",
       "[5 rows x 41 columns]"
      ]
     },
     "execution_count": 37,
     "metadata": {},
     "output_type": "execute_result"
    }
   ],
   "source": [
    "df_copy.head()"
   ]
  },
  {
   "cell_type": "markdown",
   "id": "6d0cb705",
   "metadata": {},
   "source": [
    "### 6.3 Correlation Matrix Using a Heatmap"
   ]
  },
  {
   "cell_type": "code",
   "execution_count": 38,
   "id": "a39399db",
   "metadata": {},
   "outputs": [],
   "source": [
    "# Create Correlation Matrix\n",
    "correlation_matrix = df_copy.select_dtypes(include = ['float64', 'int64']).corr()"
   ]
  },
  {
   "cell_type": "code",
   "execution_count": 39,
   "id": "8fd556b0",
   "metadata": {},
   "outputs": [
    {
     "data": {
      "image/png": "[encoded data removed]",
      "text/plain": [
       "<Figure size 1500x1000 with 2 Axes>"
      ]
     },
     "metadata": {},
     "output_type": "display_data"
    }
   ],
   "source": [
    "# Plot a heatmap based on the correlation matrix\n",
    "plt.figure(figsize = (15, 10))\n",
    "sns.heatmap(correlation_matrix, annot = True, cmap = 'coolwarm', fmt = \".2f\", linewidths = 0.5)\n",
    "plt.title('Correlation Matrix')\n",
    "plt.show()"
   ]
  },
  {
   "cell_type": "markdown",
   "id": "c9bc6dfa",
   "metadata": {},
   "source": [
    "### 6.4 Creating New Features"
   ]
  },
  {
   "cell_type": "code",
   "execution_count": 40,
   "id": "08080016",
   "metadata": {},
   "outputs": [],
   "source": [
    "# Create a column 'Contract Years' and round off to two decimals\n",
    "df_copy['Contract Years'] = df_copy['months_as_customer'] / 12\n",
    "df_copy['Contract Years'] = df_copy['Contract Years'].round(2)"
   ]
  },
  {
   "cell_type": "markdown",
   "id": "e8558c28",
   "metadata": {},
   "source": [
    "Above we have created a new feature called \"Contract Year\" which represents the duration of the policyholder's relationship with the insurance company in years"
   ]
  },
  {
   "cell_type": "markdown",
   "id": "1fa77bef",
   "metadata": {},
   "source": [
    "### 6.5 Feature Joining"
   ]
  },
  {
   "cell_type": "markdown",
   "id": "e30f89e4",
   "metadata": {},
   "source": [
    "#### Create a column Total Premiums Paid "
   ]
  },
  {
   "cell_type": "code",
   "execution_count": 41,
   "id": "bd6d4dac",
   "metadata": {},
   "outputs": [],
   "source": [
    "# Create a column 'total_premiums_paid' and round off to two decimals\n",
    "df_copy['total_premiums_paid'] = (df_copy['policy_annual_premium'] / 12) * df_copy['months_as_customer']\n",
    "df_copy['total_premiums_paid'] = df_copy['total_premiums_paid'].round(2)"
   ]
  },
  {
   "cell_type": "code",
   "execution_count": 42,
   "id": "3b781c85",
   "metadata": {},
   "outputs": [
    {
     "data": {
      "image/png": "[encoded data removed]",
      "text/plain": [
       "<Figure size 1000x500 with 1 Axes>"
      ]
     },
     "metadata": {},
     "output_type": "display_data"
    }
   ],
   "source": [
    "# Histogram for Total Premiums Paid\n",
    "plt.figure(figsize = (10, 5))\n",
    "plt.hist(df_copy['total_premiums_paid'], bins = 30, color = 'blue', alpha = 0.7, label = 'Total Premiums Paid')\n",
    "plt.xlabel('Total Premiums Paid')\n",
    "plt.ylabel('Frequency')\n",
    "plt.legend()\n",
    "plt.show()"
   ]
  },
  {
   "cell_type": "markdown",
   "id": "80663aaa",
   "metadata": {},
   "source": [
    "#### Create a column Net Value Of Customer"
   ]
  },
  {
   "cell_type": "code",
   "execution_count": 43,
   "id": "666200b1",
   "metadata": {},
   "outputs": [],
   "source": [
    "# Create a column 'net_value_of_customer' and round off to two decimals\n",
    "df_copy['net_value_of_customer'] = df_copy['total_premiums_paid'] - df_copy['total_claim_amount']\n",
    "df_copy['net_value_of_customer'] = df_copy['net_value_of_customer'].round(2)"
   ]
  },
  {
   "cell_type": "code",
   "execution_count": 44,
   "id": "772effb7",
   "metadata": {},
   "outputs": [
    {
     "data": {
      "image/png": "[encoded data removed]",
      "text/plain": [
       "<Figure size 1000x500 with 1 Axes>"
      ]
     },
     "metadata": {},
     "output_type": "display_data"
    }
   ],
   "source": [
    "# Histogram for Net Value of Customer\n",
    "plt.figure(figsize = (10, 5))\n",
    "plt.hist(df_copy['net_value_of_customer'], bins = 30, color = 'green', alpha = 0.7, label = 'Net Value of Customer')\n",
    "plt.xlabel('Net Value of Customer')\n",
    "plt.ylabel('Frequency')\n",
    "plt.legend()\n",
    "plt.show()"
   ]
  },
  {
   "cell_type": "markdown",
   "id": "35c9e1c3",
   "metadata": {},
   "source": [
    "Above two new columns was created:\n",
    "\n",
    "- Total Premiums Paid which represents the cumulative amount of premiums paid by each policyholder over their tenure.\n",
    "- Net Value Of Customer which represents the net financial value of each customer by considering the difference between the premiums paid and any claims made."
   ]
  },
  {
   "cell_type": "markdown",
   "id": "8c3caf43",
   "metadata": {},
   "source": [
    "# Saving the csv"
   ]
  },
  {
   "cell_type": "code",
   "execution_count": 46,
   "id": "f4ffb987",
   "metadata": {},
   "outputs": [],
   "source": [
    "# Save DataFrame to an Excel file\n",
    "df_copy.to_excel('Advanced_Features_Claims_Data.xlsx', index = False)"
   ]
  }
 ],
 "metadata": {
  "kernelspec": {
   "display_name": "Python 3 (ipykernel)",
   "language": "python",
   "name": "python3"
  },
  "language_info": {
   "codemirror_mode": {
    "name": "ipython",
    "version": 3
   },
   "file_extension": ".py",
   "mimetype": "text/x-python",
   "name": "python",
   "nbconvert_exporter": "python",
   "pygments_lexer": "ipython3",
   "version": "3.10.9"
  }
 },
 "nbformat": 4,
 "nbformat_minor": 5
}
